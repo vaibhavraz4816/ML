{
 "cells": [
  {
   "cell_type": "code",
   "execution_count": 1,
   "metadata": {},
   "outputs": [],
   "source": [
    "import numpy as np\n",
    "import matplotlib.pyplot as plt"
   ]
  },
  {
   "cell_type": "code",
   "execution_count": 2,
   "metadata": {},
   "outputs": [
    {
     "name": "stdout",
     "output_type": "stream",
     "text": [
      "Array x is ::  [1 2 3 4 5]\n",
      "Array y is ::  [ 7 14 15 18 19]\n",
      "5\n"
     ]
    }
   ],
   "source": [
    "x = np.array([1,2,3,4,5])\n",
    "y = np.array([7,14,15,18,19])\n",
    "print(\"Array x is :: \",x)\n",
    "print(\"Array y is :: \",y)\n",
    "n =np.size(x)\n",
    "print(n)"
   ]
  },
  {
   "cell_type": "code",
   "execution_count": 3,
   "metadata": {},
   "outputs": [
    {
     "name": "stdout",
     "output_type": "stream",
     "text": [
      "Mean x =  3.0\n",
      "Mean y =  14.6\n"
     ]
    }
   ],
   "source": [
    "x_mean = np.mean(x)\n",
    "print(\"Mean x = \",x_mean)\n",
    "y_mean = np.mean(y)\n",
    "print(\"Mean y = \", y_mean)"
   ]
  },
  {
   "cell_type": "markdown",
   "metadata": {},
   "source": [
    "### covariance and variance calculation"
   ]
  },
  {
   "cell_type": "code",
   "execution_count": 4,
   "metadata": {},
   "outputs": [
    {
     "name": "stdout",
     "output_type": "stream",
     "text": [
      "Covariance of x and y is ::  28.0\n",
      "Variance of x is ::  10.0\n"
     ]
    }
   ],
   "source": [
    "Sxy = np.sum(x*y)-n*x_mean*y_mean\n",
    "Sxx = np.sum(x*x)-n*x_mean*x_mean\n",
    "print(\"Covariance of x and y is :: \",Sxy)\n",
    "print(\"Variance of x is :: \",Sxx)"
   ]
  },
  {
   "cell_type": "markdown",
   "metadata": {},
   "source": [
    "### calculating Q0 and Q1 for expression"
   ]
  },
  {
   "cell_type": "code",
   "execution_count": 5,
   "metadata": {},
   "outputs": [
    {
     "name": "stdout",
     "output_type": "stream",
     "text": [
      "Values of Q1 and Q0 are ::  2.8 6.200000000000001\n"
     ]
    }
   ],
   "source": [
    "Q1 = Sxy/Sxx  #covariance/variance\n",
    "Q0 = y_mean-Q1*x_mean\n",
    "print(\"Values of Q1 and Q0 are :: \",Q1,Q0)"
   ]
  },
  {
   "cell_type": "code",
   "execution_count": 6,
   "metadata": {},
   "outputs": [
    {
     "name": "stdout",
     "output_type": "stream",
     "text": [
      "Predicted Values of :  [ 9.  11.8 14.6 17.4 20.2]\n"
     ]
    }
   ],
   "source": [
    "y_pred = Q0+Q1*x\n",
    "print(\"Predicted Values of : \",y_pred)"
   ]
  },
  {
   "cell_type": "code",
   "execution_count": 7,
   "metadata": {},
   "outputs": [
    {
     "data": {
      "text/plain": [
       "Text(0.5, 1.0, 'Y and Y predicted')"
      ]
     },
     "execution_count": 7,
     "metadata": {},
     "output_type": "execute_result"
    },
    {
     "data": {
      "image/png": "[encoded data removed]",
      "text/plain": [
       "<Figure size 432x288 with 1 Axes>"
      ]
     },
     "metadata": {
      "needs_background": "light"
     },
     "output_type": "display_data"
    }
   ],
   "source": [
    "plt.scatter(x,y,color='blue')\n",
    "plt.plot(x,y_pred,color='red')\n",
    "plt.xlabel(\"X\")\n",
    "plt.ylabel(\"Y\")\n",
    "plt.title(\"Y and Y predicted\")"
   ]
  },
  {
   "cell_type": "markdown",
   "metadata": {},
   "source": [
    "### calculate error and cost"
   ]
  },
  {
   "cell_type": "code",
   "execution_count": 8,
   "metadata": {},
   "outputs": [
    {
     "name": "stdout",
     "output_type": "stream",
     "text": [
      "error is::  [-2.   2.2  0.4  0.6 -1.2]\n",
      "Sq. error ::  10.800000000000004\n",
      "Mean Squared error:  2.160000000000001\n",
      "Root mean Squared error:  1.4696938456699071\n"
     ]
    }
   ],
   "source": [
    "error = y - y_pred\n",
    "print(\"error is:: \",error)\n",
    "se = np.sum(error**2)\n",
    "print(\"Sq. error :: \",se)\n",
    "mse = se/n\n",
    "print(\"Mean Squared error: \",mse)\n",
    "print(\"Root mean Squared error: \",np.sqrt(mse))"
   ]
  },
  {
   "cell_type": "code",
   "execution_count": 9,
   "metadata": {},
   "outputs": [],
   "source": [
    "from sklearn.linear_model import LinearRegression"
   ]
  },
  {
   "cell_type": "code",
   "execution_count": 10,
   "metadata": {},
   "outputs": [],
   "source": [
    "lm = LinearRegression()"
   ]
  },
  {
   "cell_type": "code",
   "execution_count": 11,
   "metadata": {},
   "outputs": [
    {
     "name": "stdout",
     "output_type": "stream",
     "text": [
      "Array x is ::  [1 2 3 4 5]\n",
      "Array y is ::  [ 7 14 15 18 19]\n"
     ]
    }
   ],
   "source": [
    "print(\"Array x is :: \",x)\n",
    "print(\"Array y is :: \",y)"
   ]
  },
  {
   "cell_type": "code",
   "execution_count": 12,
   "metadata": {},
   "outputs": [
    {
     "data": {
      "text/plain": [
       "array([[1],\n",
       "       [2],\n",
       "       [3],\n",
       "       [4],\n",
       "       [5]])"
      ]
     },
     "execution_count": 12,
     "metadata": {},
     "output_type": "execute_result"
    }
   ],
   "source": [
    "x = x.reshape([-1,1])\n",
    "x"
   ]
  },
  {
   "cell_type": "code",
   "execution_count": 13,
   "metadata": {},
   "outputs": [
    {
     "data": {
      "text/plain": [
       "LinearRegression()"
      ]
     },
     "execution_count": 13,
     "metadata": {},
     "output_type": "execute_result"
    }
   ],
   "source": [
    "lm.fit(x,y)"
   ]
  },
  {
   "cell_type": "code",
   "execution_count": 14,
   "metadata": {},
   "outputs": [
    {
     "name": "stdout",
     "output_type": "stream",
     "text": [
      "Values of Q1 and Q0 from Sklearn Linear Regression Model:  [2.8] 6.199999999999999\n"
     ]
    }
   ],
   "source": [
    "lm_Q0 = lm.intercept_\n",
    "lm_Q1 = lm.coef_\n",
    "print(\"Values of Q1 and Q0 from Sklearn Linear Regression Model: \",lm_Q1,lm_Q0)"
   ]
  },
  {
   "cell_type": "code",
   "execution_count": 15,
   "metadata": {},
   "outputs": [
    {
     "data": {
      "text/plain": [
       "array([ 9. , 11.8, 14.6, 17.4, 20.2])"
      ]
     },
     "execution_count": 15,
     "metadata": {},
     "output_type": "execute_result"
    }
   ],
   "source": [
    "lm_y_pred = lm.predict(x)\n",
    "lm_y_pred"
   ]
  },
  {
   "cell_type": "code",
   "execution_count": 16,
   "metadata": {},
   "outputs": [],
   "source": [
    "from sklearn import metrics"
   ]
  },
  {
   "cell_type": "code",
   "execution_count": 17,
   "metadata": {},
   "outputs": [
    {
     "name": "stdout",
     "output_type": "stream",
     "text": [
      "Mean Squared error ::  2.160000000000001\n",
      "Root mean Squared error ::  1.4696938456699071\n"
     ]
    }
   ],
   "source": [
    "#print(\"Error in linear Regression model\")\n",
    "lm_mse = metrics.mean_squared_error(y,lm_y_pred)\n",
    "print(\"Mean Squared error :: \",lm_mse)\n",
    "print(\"Root mean Squared error :: \",np.sqrt(lm_mse))\n"
   ]
  }
 ],
 "metadata": {
  "kernelspec": {
   "display_name": "Python 3",
   "language": "python",
   "name": "python3"
  },
  "language_info": {
   "codemirror_mode": {
    "name": "ipython",
    "version": 3
   },
   "file_extension": ".py",
   "mimetype": "text/x-python",
   "name": "python",
   "nbconvert_exporter": "python",
   "pygments_lexer": "ipython3",
   "version": "3.7.4"
  }
 },
 "nbformat": 4,
 "nbformat_minor": 5
}
