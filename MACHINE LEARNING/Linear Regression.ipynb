{
 "cells": [
  {
   "cell_type": "code",
   "execution_count": 1,
   "metadata": {},
   "outputs": [],
   "source": [
    "import numpy as np\n",
    "import matplotlib.pyplot as plt\n",
    "from sklearn.linear_model import LinearRegression\n",
    "from sklearn.metrics import mean_squared_error"
   ]
  },
  {
   "cell_type": "code",
   "execution_count": 2,
   "metadata": {},
   "outputs": [],
   "source": [
    "import pandas as pd\n",
    "from sklearn import datasets"
   ]
  },
  {
   "cell_type": "code",
   "execution_count": 3,
   "metadata": {},
   "outputs": [],
   "source": [
    "diabetes_X, diabetes_Y = datasets.load_diabetes(return_X_y=True)"
   ]
  },
  {
   "cell_type": "code",
   "execution_count": 4,
   "metadata": {
    "scrolled": true
   },
   "outputs": [
    {
     "data": {
      "text/plain": [
       "array([ 0.03807591, -0.00188202,  0.08529891, -0.08906294,  0.00538306,\n",
       "       -0.09269548, -0.04547248,  0.06350368,  0.04170844, -0.07090025,\n",
       "       -0.09632802,  0.02717829,  0.01628068,  0.00538306,  0.04534098,\n",
       "       -0.05273755, -0.00551455,  0.07076875, -0.0382074 , -0.02730979,\n",
       "       -0.04910502, -0.0854304 , -0.0854304 ,  0.04534098, -0.06363517,\n",
       "       -0.06726771, -0.10722563, -0.02367725,  0.05260606,  0.06713621,\n",
       "       -0.06000263, -0.02367725,  0.03444337,  0.03081083,  0.01628068,\n",
       "        0.04897352,  0.01264814, -0.00914709, -0.00188202, -0.00188202,\n",
       "        0.00538306, -0.09996055, -0.06000263,  0.01991321,  0.04534098,\n",
       "        0.02717829, -0.05637009, -0.07816532,  0.06713621, -0.04183994,\n",
       "        0.03444337,  0.05987114, -0.05273755, -0.00914709, -0.04910502,\n",
       "       -0.04183994, -0.04183994, -0.02730979,  0.04170844,  0.06350368,\n",
       "       -0.07090025, -0.04183994, -0.02730979, -0.03457486,  0.06713621,\n",
       "       -0.04547248, -0.00914709,  0.04170844,  0.03807591,  0.01628068,\n",
       "       -0.00188202, -0.00188202,  0.06350368,  0.01264814,  0.01264814,\n",
       "       -0.00914709, -0.03094232, -0.09632802,  0.00538306, -0.10359309,\n",
       "        0.07076875,  0.01264814, -0.01641217, -0.0382074 ,  0.00175052,\n",
       "        0.04534098, -0.07090025,  0.04534098, -0.05273755, -0.04547248,\n",
       "        0.01264814,  0.04534098, -0.02004471, -0.04910502, -0.07816532,\n",
       "       -0.07090025,  0.0562386 , -0.02730979,  0.00175052, -0.00188202,\n",
       "        0.01628068,  0.01628068, -0.09269548,  0.05987114, -0.02730979,\n",
       "        0.02354575, -0.09632802,  0.02717829,  0.01991321,  0.03807591,\n",
       "        0.04170844,  0.01991321, -0.0854304 ,  0.01991321,  0.02354575,\n",
       "       -0.03094232,  0.04897352,  0.05987114, -0.05637009,  0.01628068,\n",
       "       -0.04910502,  0.06350368,  0.04897352,  0.00538306, -0.00551455,\n",
       "       -0.00551455, -0.08906294,  0.03444337, -0.05273755,  0.0090156 ,\n",
       "       -0.06363517, -0.09632802,  0.01628068, -0.04183994, -0.07453279,\n",
       "       -0.00551455, -0.09269548,  0.00538306,  0.03444337,  0.02354575,\n",
       "        0.04170844, -0.02730979,  0.04170844, -0.03094232,  0.03081083,\n",
       "       -0.04183994, -0.03094232, -0.05637009, -0.06000263, -0.04910502,\n",
       "        0.02354575,  0.00175052, -0.03457486,  0.04170844,  0.06713621,\n",
       "       -0.02730979, -0.01641217, -0.00188202, -0.01277963, -0.00551455,\n",
       "       -0.00914709, -0.04547248, -0.05273755,  0.01628068,  0.04534098,\n",
       "       -0.04183994, -0.05637009,  0.07076875,  0.00175052, -0.00188202,\n",
       "        0.02354575, -0.02004471,  0.04170844, -0.06363517,  0.01628068,\n",
       "        0.06713621,  0.04534098,  0.04897352,  0.04170844, -0.02367725,\n",
       "       -0.0382074 ,  0.04897352,  0.04534098,  0.04534098,  0.01628068,\n",
       "       -0.07453279, -0.08179786, -0.06726771,  0.00538306, -0.00188202,\n",
       "        0.0090156 , -0.00551455,  0.0562386 ,  0.0090156 , -0.06726771,\n",
       "        0.02717829, -0.02367725,  0.04897352, -0.05273755,  0.04170844,\n",
       "        0.0562386 , -0.03457486,  0.08166637, -0.00188202,  0.11072668,\n",
       "       -0.03094232,  0.00175052,  0.0090156 ,  0.03081083,  0.03807591,\n",
       "        0.0090156 ,  0.09256398,  0.06713621,  0.00175052,  0.03081083,\n",
       "        0.02717829,  0.01264814,  0.07440129, -0.04183994, -0.08906294,\n",
       "        0.02354575, -0.04547248, -0.02367725, -0.09996055, -0.02730979,\n",
       "        0.03081083, -0.10359309,  0.06713621, -0.05273755, -0.02730979,\n",
       "       -0.0382074 ,  0.0090156 ,  0.01264814,  0.06713621,  0.04534098,\n",
       "        0.06713621,  0.02717829,  0.0562386 ,  0.03444337,  0.02354575,\n",
       "        0.04897352,  0.03081083, -0.10359309,  0.01628068, -0.06000263,\n",
       "       -0.02730979,  0.04170844, -0.08179786, -0.04183994, -0.01277963,\n",
       "        0.06713621, -0.05273755,  0.00538306,  0.08166637,  0.03081083,\n",
       "        0.00175052, -0.04910502, -0.02730979,  0.07803383,  0.01264814,\n",
       "        0.04170844,  0.04897352, -0.01641217, -0.07453279,  0.03444337,\n",
       "       -0.03457486, -0.05273755,  0.05987114,  0.06350368,  0.0090156 ,\n",
       "        0.00538306,  0.03807591,  0.01264814,  0.07440129,  0.01628068,\n",
       "       -0.00551455,  0.01264814, -0.03457486,  0.06713621,  0.03807591,\n",
       "        0.0090156 , -0.09269548,  0.07076875, -0.01641217,  0.04170844,\n",
       "        0.01264814, -0.0382074 ,  0.04534098,  0.07076875, -0.07453279,\n",
       "        0.05987114,  0.07440129,  0.0090156 , -0.07090025,  0.02354575,\n",
       "       -0.05273755,  0.06713621,  0.00175052,  0.02354575,  0.03807591,\n",
       "        0.01628068, -0.00188202,  0.01264814,  0.07440129,  0.04170844,\n",
       "       -0.00914709,  0.0090156 ,  0.06713621,  0.00175052, -0.00914709,\n",
       "       -0.00551455,  0.09619652, -0.07453279,  0.05987114, -0.02367725,\n",
       "        0.0090156 ,  0.01628068,  0.01991321,  0.08893144,  0.01991321,\n",
       "       -0.02367725,  0.09619652,  0.02354575,  0.07076875,  0.03081083,\n",
       "       -0.00188202,  0.04534098,  0.07440129, -0.0382074 , -0.01277963,\n",
       "        0.0090156 ,  0.08166637,  0.03081083,  0.02717829, -0.06000263,\n",
       "        0.00538306, -0.02004471,  0.01991321, -0.06363517,  0.02717829,\n",
       "       -0.01641217,  0.03081083,  0.0562386 , -0.02004471, -0.10722563,\n",
       "        0.08166637,  0.00538306,  0.03807591,  0.03081083,  0.00175052,\n",
       "       -0.02730979, -0.0854304 ,  0.01264814, -0.05273755, -0.02367725,\n",
       "       -0.07453279, -0.00551455, -0.06000263, -0.02004471,  0.03807591,\n",
       "        0.01628068,  0.04170844,  0.01991321, -0.04910502,  0.00175052,\n",
       "        0.03444337, -0.04547248, -0.00914709, -0.01641217, -0.00914709,\n",
       "        0.01991321,  0.05260606, -0.02730979, -0.07453279, -0.10722563,\n",
       "        0.04534098, -0.00188202,  0.01991321,  0.01628068, -0.00188202,\n",
       "        0.01628068, -0.07090025,  0.04897352,  0.00538306,  0.03444337,\n",
       "        0.02354575,  0.01991321, -0.04547248,  0.05260606, -0.00551455,\n",
       "        0.0090156 , -0.02367725, -0.04183994, -0.07453279,  0.03444337,\n",
       "       -0.06000263, -0.0854304 ,  0.05260606,  0.01264814,  0.05987114,\n",
       "       -0.02367725,  0.01628068,  0.11072668, -0.02004471, -0.01641217,\n",
       "        0.04897352, -0.05637009,  0.02717829,  0.06350368, -0.05273755,\n",
       "       -0.00914709,  0.00538306,  0.07440129, -0.05273755,  0.08166637,\n",
       "       -0.00551455, -0.02730979, -0.05273755,  0.0090156 , -0.02004471,\n",
       "        0.02354575,  0.03807591, -0.07816532,  0.0090156 ,  0.00175052,\n",
       "       -0.07816532,  0.03081083, -0.03457486,  0.04897352, -0.04183994,\n",
       "       -0.00914709,  0.07076875,  0.0090156 , -0.02730979,  0.01628068,\n",
       "       -0.01277963, -0.05637009,  0.04170844, -0.00551455,  0.04170844,\n",
       "       -0.04547248, -0.04547248])"
      ]
     },
     "execution_count": 4,
     "metadata": {},
     "output_type": "execute_result"
    }
   ],
   "source": [
    "#considering first column of X.\n",
    "diabetes_X=diabetes_X[:,0]\n",
    "diabetes_X"
   ]
  },
  {
   "cell_type": "code",
   "execution_count": 5,
   "metadata": {},
   "outputs": [
    {
     "data": {
      "text/plain": [
       "array([151.,  75., 141., 206., 135.,  97., 138.,  63., 110., 310., 101.,\n",
       "        69., 179., 185., 118., 171., 166., 144.,  97., 168.,  68.,  49.,\n",
       "        68., 245., 184., 202., 137.,  85., 131., 283., 129.,  59., 341.,\n",
       "        87.,  65., 102., 265., 276., 252.,  90., 100.,  55.,  61.,  92.,\n",
       "       259.,  53., 190., 142.,  75., 142., 155., 225.,  59., 104., 182.,\n",
       "       128.,  52.,  37., 170., 170.,  61., 144.,  52., 128.,  71., 163.,\n",
       "       150.,  97., 160., 178.,  48., 270., 202., 111.,  85.,  42., 170.,\n",
       "       200., 252., 113., 143.,  51.,  52., 210.,  65., 141.,  55., 134.,\n",
       "        42., 111.,  98., 164.,  48.,  96.,  90., 162., 150., 279.,  92.,\n",
       "        83., 128., 102., 302., 198.,  95.,  53., 134., 144., 232.,  81.,\n",
       "       104.,  59., 246., 297., 258., 229., 275., 281., 179., 200., 200.,\n",
       "       173., 180.,  84., 121., 161.,  99., 109., 115., 268., 274., 158.,\n",
       "       107.,  83., 103., 272.,  85., 280., 336., 281., 118., 317., 235.,\n",
       "        60., 174., 259., 178., 128.,  96., 126., 288.,  88., 292.,  71.,\n",
       "       197., 186.,  25.,  84.,  96., 195.,  53., 217., 172., 131., 214.,\n",
       "        59.,  70., 220., 268., 152.,  47.,  74., 295., 101., 151., 127.,\n",
       "       237., 225.,  81., 151., 107.,  64., 138., 185., 265., 101., 137.,\n",
       "       143., 141.,  79., 292., 178.,  91., 116.,  86., 122.,  72., 129.,\n",
       "       142.,  90., 158.,  39., 196., 222., 277.,  99., 196., 202., 155.,\n",
       "        77., 191.,  70.,  73.,  49.,  65., 263., 248., 296., 214., 185.,\n",
       "        78.,  93., 252., 150.,  77., 208.,  77., 108., 160.,  53., 220.,\n",
       "       154., 259.,  90., 246., 124.,  67.,  72., 257., 262., 275., 177.,\n",
       "        71.,  47., 187., 125.,  78.,  51., 258., 215., 303., 243.,  91.,\n",
       "       150., 310., 153., 346.,  63.,  89.,  50.,  39., 103., 308., 116.,\n",
       "       145.,  74.,  45., 115., 264.,  87., 202., 127., 182., 241.,  66.,\n",
       "        94., 283.,  64., 102., 200., 265.,  94., 230., 181., 156., 233.,\n",
       "        60., 219.,  80.,  68., 332., 248.,  84., 200.,  55.,  85.,  89.,\n",
       "        31., 129.,  83., 275.,  65., 198., 236., 253., 124.,  44., 172.,\n",
       "       114., 142., 109., 180., 144., 163., 147.,  97., 220., 190., 109.,\n",
       "       191., 122., 230., 242., 248., 249., 192., 131., 237.,  78., 135.,\n",
       "       244., 199., 270., 164.,  72.,  96., 306.,  91., 214.,  95., 216.,\n",
       "       263., 178., 113., 200., 139., 139.,  88., 148.,  88., 243.,  71.,\n",
       "        77., 109., 272.,  60.,  54., 221.,  90., 311., 281., 182., 321.,\n",
       "        58., 262., 206., 233., 242., 123., 167.,  63., 197.,  71., 168.,\n",
       "       140., 217., 121., 235., 245.,  40.,  52., 104., 132.,  88.,  69.,\n",
       "       219.,  72., 201., 110.,  51., 277.,  63., 118.,  69., 273., 258.,\n",
       "        43., 198., 242., 232., 175.,  93., 168., 275., 293., 281.,  72.,\n",
       "       140., 189., 181., 209., 136., 261., 113., 131., 174., 257.,  55.,\n",
       "        84.,  42., 146., 212., 233.,  91., 111., 152., 120.,  67., 310.,\n",
       "        94., 183.,  66., 173.,  72.,  49.,  64.,  48., 178., 104., 132.,\n",
       "       220.,  57.])"
      ]
     },
     "execution_count": 5,
     "metadata": {},
     "output_type": "execute_result"
    }
   ],
   "source": [
    "diabetes_Y"
   ]
  },
  {
   "cell_type": "code",
   "execution_count": 6,
   "metadata": {},
   "outputs": [
    {
     "data": {
      "text/plain": [
       "Text(0, 0.5, 'Dependent variable y')"
      ]
     },
     "execution_count": 6,
     "metadata": {},
     "output_type": "execute_result"
    },
    {
     "data": {
      "image/png": "[encoded data removed]",
      "text/plain": [
       "<Figure size 432x288 with 1 Axes>"
      ]
     },
     "metadata": {
      "needs_background": "light"
     },
     "output_type": "display_data"
    }
   ],
   "source": [
    "plt.scatter(diabetes_X,diabetes_Y)\n",
    "plt.xlabel('Independent variable X')\n",
    "plt.ylabel('Dependent variable y')"
   ]
  },
  {
   "cell_type": "code",
   "execution_count": 7,
   "metadata": {},
   "outputs": [
    {
     "data": {
      "text/plain": [
       "-3.6396225400041895e-16"
      ]
     },
     "execution_count": 7,
     "metadata": {},
     "output_type": "execute_result"
    }
   ],
   "source": [
    "x_mean = np.mean(diabetes_X)\n",
    "x_mean"
   ]
  },
  {
   "cell_type": "code",
   "execution_count": 8,
   "metadata": {},
   "outputs": [
    {
     "data": {
      "text/plain": [
       "152.13348416289594"
      ]
     },
     "execution_count": 8,
     "metadata": {},
     "output_type": "execute_result"
    }
   ],
   "source": [
    "y_mean=np.mean(diabetes_Y)\n",
    "y_mean"
   ]
  },
  {
   "cell_type": "code",
   "execution_count": 9,
   "metadata": {},
   "outputs": [
    {
     "data": {
      "text/plain": [
       "304.183074528293"
      ]
     },
     "execution_count": 9,
     "metadata": {},
     "output_type": "execute_result"
    }
   ],
   "source": [
    "np.sum(diabetes_X*diabetes_Y)"
   ]
  },
  {
   "cell_type": "code",
   "execution_count": 10,
   "metadata": {},
   "outputs": [],
   "source": [
    "n = np.size(diabetes_X)\n",
    "#covariance\n",
    "Sxy = np.sum(diabetes_X*diabetes_Y) - n*x_mean*y_mean\n",
    "#variance\n",
    "Sxx = np.sum(diabetes_X*diabetes_X) - n*x_mean*x_mean"
   ]
  },
  {
   "cell_type": "code",
   "execution_count": 11,
   "metadata": {},
   "outputs": [],
   "source": [
    "Q1 = Sxy/Sxx\n",
    "Q0 = y_mean - Q1*x_mean"
   ]
  },
  {
   "cell_type": "code",
   "execution_count": 12,
   "metadata": {},
   "outputs": [
    {
     "data": {
      "text/plain": [
       "array([163.71553045, 151.56100659, 178.07996773, 125.04204544,\n",
       "       153.77092002, 123.93708873, 138.30152602, 171.45022745,\n",
       "       164.82048716, 130.56682902, 122.83213202, 160.4006603 ,\n",
       "       157.08579016, 153.77092002, 165.92544388, 136.09161259,\n",
       "       150.45604987, 173.66014088, 140.51143945, 143.82630959,\n",
       "       137.1965693 , 126.14700216, 126.14700216, 165.92544388,\n",
       "       132.77674244, 131.67178573, 119.51726187, 144.9312663 ,\n",
       "       168.1353573 , 172.55518416, 133.88169916, 144.9312663 ,\n",
       "       162.61057373, 161.50561702, 157.08579016, 167.03040059,\n",
       "       155.98083345, 149.35109316, 151.56100659, 151.56100659,\n",
       "       153.77092002, 121.7271753 , 133.88169916, 158.19074688,\n",
       "       165.92544388, 160.4006603 , 134.98665587, 128.35691559,\n",
       "       172.55518416, 139.40648273, 162.61057373, 170.34527073,\n",
       "       136.09161259, 149.35109316, 137.1965693 , 139.40648273,\n",
       "       139.40648273, 143.82630959, 164.82048716, 171.45022745,\n",
       "       130.56682902, 139.40648273, 143.82630959, 141.61639616,\n",
       "       172.55518416, 138.30152602, 149.35109316, 164.82048716,\n",
       "       163.71553045, 157.08579016, 151.56100659, 151.56100659,\n",
       "       171.45022745, 155.98083345, 155.98083345, 149.35109316,\n",
       "       142.72135287, 122.83213202, 153.77092002, 120.62221859,\n",
       "       173.66014088, 155.98083345, 147.14117973, 140.51143945,\n",
       "       152.6659633 , 165.92544388, 130.56682902, 165.92544388,\n",
       "       136.09161259, 138.30152602, 155.98083345, 165.92544388,\n",
       "       146.03622302, 137.1965693 , 128.35691559, 130.56682902,\n",
       "       169.24031402, 143.82630959, 152.6659633 , 151.56100659,\n",
       "       157.08579016, 157.08579016, 123.93708873, 170.34527073,\n",
       "       143.82630959, 159.29570359, 122.83213202, 160.4006603 ,\n",
       "       158.19074688, 163.71553045, 164.82048716, 158.19074688,\n",
       "       126.14700216, 158.19074688, 159.29570359, 142.72135287,\n",
       "       167.03040059, 170.34527073, 134.98665587, 157.08579016,\n",
       "       137.1965693 , 171.45022745, 167.03040059, 153.77092002,\n",
       "       150.45604987, 150.45604987, 125.04204544, 162.61057373,\n",
       "       136.09161259, 154.87587673, 132.77674244, 122.83213202,\n",
       "       157.08579016, 139.40648273, 129.4618723 , 150.45604987,\n",
       "       123.93708873, 153.77092002, 162.61057373, 159.29570359,\n",
       "       164.82048716, 143.82630959, 164.82048716, 142.72135287,\n",
       "       161.50561702, 139.40648273, 142.72135287, 134.98665587,\n",
       "       133.88169916, 137.1965693 , 159.29570359, 152.6659633 ,\n",
       "       141.61639616, 164.82048716, 172.55518416, 143.82630959,\n",
       "       147.14117973, 151.56100659, 148.24613645, 150.45604987,\n",
       "       149.35109316, 138.30152602, 136.09161259, 157.08579016,\n",
       "       165.92544388, 139.40648273, 134.98665587, 173.66014088,\n",
       "       152.6659633 , 151.56100659, 159.29570359, 146.03622302,\n",
       "       164.82048716, 132.77674244, 157.08579016, 172.55518416,\n",
       "       165.92544388, 167.03040059, 164.82048716, 144.9312663 ,\n",
       "       140.51143945, 167.03040059, 165.92544388, 165.92544388,\n",
       "       157.08579016, 129.4618723 , 127.25195887, 131.67178573,\n",
       "       153.77092002, 151.56100659, 154.87587673, 150.45604987,\n",
       "       169.24031402, 154.87587673, 131.67178573, 160.4006603 ,\n",
       "       144.9312663 , 167.03040059, 136.09161259, 164.82048716,\n",
       "       169.24031402, 141.61639616, 176.97501102, 151.56100659,\n",
       "       185.81466473, 142.72135287, 152.6659633 , 154.87587673,\n",
       "       161.50561702, 163.71553045, 154.87587673, 180.28988116,\n",
       "       172.55518416, 152.6659633 , 161.50561702, 160.4006603 ,\n",
       "       155.98083345, 174.76509759, 139.40648273, 125.04204544,\n",
       "       159.29570359, 138.30152602, 144.9312663 , 121.7271753 ,\n",
       "       143.82630959, 161.50561702, 120.62221859, 172.55518416,\n",
       "       136.09161259, 143.82630959, 140.51143945, 154.87587673,\n",
       "       155.98083345, 172.55518416, 165.92544388, 172.55518416,\n",
       "       160.4006603 , 169.24031402, 162.61057373, 159.29570359,\n",
       "       167.03040059, 161.50561702, 120.62221859, 157.08579016,\n",
       "       133.88169916, 143.82630959, 164.82048716, 127.25195887,\n",
       "       139.40648273, 148.24613645, 172.55518416, 136.09161259,\n",
       "       153.77092002, 176.97501102, 161.50561702, 152.6659633 ,\n",
       "       137.1965693 , 143.82630959, 175.87005431, 155.98083345,\n",
       "       164.82048716, 167.03040059, 147.14117973, 129.4618723 ,\n",
       "       162.61057373, 141.61639616, 136.09161259, 170.34527073,\n",
       "       171.45022745, 154.87587673, 153.77092002, 163.71553045,\n",
       "       155.98083345, 174.76509759, 157.08579016, 150.45604987,\n",
       "       155.98083345, 141.61639616, 172.55518416, 163.71553045,\n",
       "       154.87587673, 123.93708873, 173.66014088, 147.14117973,\n",
       "       164.82048716, 155.98083345, 140.51143945, 165.92544388,\n",
       "       173.66014088, 129.4618723 , 170.34527073, 174.76509759,\n",
       "       154.87587673, 130.56682902, 159.29570359, 136.09161259,\n",
       "       172.55518416, 152.6659633 , 159.29570359, 163.71553045,\n",
       "       157.08579016, 151.56100659, 155.98083345, 174.76509759,\n",
       "       164.82048716, 149.35109316, 154.87587673, 172.55518416,\n",
       "       152.6659633 , 149.35109316, 150.45604987, 181.39483788,\n",
       "       129.4618723 , 170.34527073, 144.9312663 , 154.87587673,\n",
       "       157.08579016, 158.19074688, 179.18492445, 158.19074688,\n",
       "       144.9312663 , 181.39483788, 159.29570359, 173.66014088,\n",
       "       161.50561702, 151.56100659, 165.92544388, 174.76509759,\n",
       "       140.51143945, 148.24613645, 154.87587673, 176.97501102,\n",
       "       161.50561702, 160.4006603 , 133.88169916, 153.77092002,\n",
       "       146.03622302, 158.19074688, 132.77674244, 160.4006603 ,\n",
       "       147.14117973, 161.50561702, 169.24031402, 146.03622302,\n",
       "       119.51726187, 176.97501102, 153.77092002, 163.71553045,\n",
       "       161.50561702, 152.6659633 , 143.82630959, 126.14700216,\n",
       "       155.98083345, 136.09161259, 144.9312663 , 129.4618723 ,\n",
       "       150.45604987, 133.88169916, 146.03622302, 163.71553045,\n",
       "       157.08579016, 164.82048716, 158.19074688, 137.1965693 ,\n",
       "       152.6659633 , 162.61057373, 138.30152602, 149.35109316,\n",
       "       147.14117973, 149.35109316, 158.19074688, 168.1353573 ,\n",
       "       143.82630959, 129.4618723 , 119.51726187, 165.92544388,\n",
       "       151.56100659, 158.19074688, 157.08579016, 151.56100659,\n",
       "       157.08579016, 130.56682902, 167.03040059, 153.77092002,\n",
       "       162.61057373, 159.29570359, 158.19074688, 138.30152602,\n",
       "       168.1353573 , 150.45604987, 154.87587673, 144.9312663 ,\n",
       "       139.40648273, 129.4618723 , 162.61057373, 133.88169916,\n",
       "       126.14700216, 168.1353573 , 155.98083345, 170.34527073,\n",
       "       144.9312663 , 157.08579016, 185.81466473, 146.03622302,\n",
       "       147.14117973, 167.03040059, 134.98665587, 160.4006603 ,\n",
       "       171.45022745, 136.09161259, 149.35109316, 153.77092002,\n",
       "       174.76509759, 136.09161259, 176.97501102, 150.45604987,\n",
       "       143.82630959, 136.09161259, 154.87587673, 146.03622302,\n",
       "       159.29570359, 163.71553045, 128.35691559, 154.87587673,\n",
       "       152.6659633 , 128.35691559, 161.50561702, 141.61639616,\n",
       "       167.03040059, 139.40648273, 149.35109316, 173.66014088,\n",
       "       154.87587673, 143.82630959, 157.08579016, 148.24613645,\n",
       "       134.98665587, 164.82048716, 150.45604987, 164.82048716,\n",
       "       138.30152602, 138.30152602])"
      ]
     },
     "execution_count": 12,
     "metadata": {},
     "output_type": "execute_result"
    }
   ],
   "source": [
    "y_pred = Q0 + Q1*diabetes_X\n",
    "y_pred"
   ]
  },
  {
   "cell_type": "code",
   "execution_count": 13,
   "metadata": {},
   "outputs": [
    {
     "data": {
      "text/plain": [
       "Text(0, 0.5, 'y')"
      ]
     },
     "execution_count": 13,
     "metadata": {},
     "output_type": "execute_result"
    },
    {
     "data": {
      "image/png": "[encoded data removed]",
      "text/plain": [
       "<Figure size 432x288 with 1 Axes>"
      ]
     },
     "metadata": {
      "needs_background": "light"
     },
     "output_type": "display_data"
    }
   ],
   "source": [
    "plt.scatter(diabetes_X,diabetes_Y,color = 'red')\n",
    "plt.plot(diabetes_X,y_pred, color = 'green')\n",
    "plt.xlabel('X')\n",
    "plt.ylabel('y')"
   ]
  },
  {
   "cell_type": "code",
   "execution_count": 14,
   "metadata": {},
   "outputs": [
    {
     "data": {
      "text/plain": [
       "array([ -12.71553045,  -76.56100659,  -37.07996773,   80.95795456,\n",
       "        -18.77092002,  -26.93708873,   -0.30152602, -108.45022745,\n",
       "        -54.82048716,  179.43317098,  -21.83213202,  -91.4006603 ,\n",
       "         21.91420984,   31.22907998,  -47.92544388,   34.90838741,\n",
       "         15.54395013,  -29.66014088,  -43.51143945,   24.17369041,\n",
       "        -69.1965693 ,  -77.14700216,  -58.14700216,   79.07455612,\n",
       "         51.22325756,   70.32821427,   17.48273813,  -59.9312663 ,\n",
       "        -37.1353573 ,  110.44481584,   -4.88169916,  -85.9312663 ,\n",
       "        178.38942627,  -74.50561702,  -92.08579016,  -65.03040059,\n",
       "        109.01916655,  126.64890684,  100.43899341,  -61.56100659,\n",
       "        -53.77092002,  -66.7271753 ,  -72.88169916,  -66.19074688,\n",
       "         93.07455612, -107.4006603 ,   55.01334413,   13.64308441,\n",
       "        -97.55518416,    2.59351727,   -7.61057373,   54.65472927,\n",
       "        -77.09161259,  -45.35109316,   44.8034307 ,  -11.40648273,\n",
       "        -87.40648273, -106.82630959,    5.17951284,   -1.45022745,\n",
       "        -69.56682902,    4.59351727,  -91.82630959,  -13.61639616,\n",
       "       -101.55518416,   24.69847398,    0.64890684,  -67.82048716,\n",
       "         -3.71553045,   20.91420984, -103.56100659,  118.43899341,\n",
       "         30.54977255,  -44.98083345,  -70.98083345, -107.35109316,\n",
       "         27.27864713,   77.16786798,   98.22907998,   -7.62221859,\n",
       "        -30.66014088, -104.98083345,  -95.14117973,   69.48856055,\n",
       "        -87.6659633 ,  -24.92544388,  -75.56682902,  -31.92544388,\n",
       "        -94.09161259,  -27.30152602,  -57.98083345,   -1.92544388,\n",
       "        -98.03622302,  -41.1965693 ,  -38.35691559,   31.43317098,\n",
       "        -19.24031402,  135.17369041,  -60.6659633 ,  -68.56100659,\n",
       "        -29.08579016,  -55.08579016,  178.06291127,   27.65472927,\n",
       "        -48.82630959, -106.29570359,   11.16786798,  -16.4006603 ,\n",
       "         73.80925312,  -82.71553045,  -60.82048716,  -99.19074688,\n",
       "        119.85299784,  138.80925312,   98.70429641,   86.27864713,\n",
       "        107.96959941,  110.65472927,   44.01334413,   42.91420984,\n",
       "         62.8034307 ,    1.54977255,   12.96959941,  -69.77092002,\n",
       "        -29.45604987,   10.54395013,  -26.04204544,  -53.61057373,\n",
       "        -21.09161259,  113.12412327,  141.22325756,   35.16786798,\n",
       "        -50.08579016,  -56.40648273,  -26.4618723 ,  121.54395013,\n",
       "        -38.93708873,  126.22907998,  173.38942627,  121.70429641,\n",
       "        -46.82048716,  173.17369041,   70.17951284,  -82.72135287,\n",
       "         12.49438298,  119.59351727,   35.27864713,   -6.98665587,\n",
       "        -37.88169916,  -11.1965693 ,  128.70429641,  -64.6659633 ,\n",
       "        150.38360384,  -93.82048716,   24.44481584,   42.17369041,\n",
       "       -122.14117973,  -67.56100659,  -52.24613645,   44.54395013,\n",
       "        -96.35109316,   78.69847398,   35.90838741,  -26.08579016,\n",
       "         48.07455612,  -80.40648273,  -64.98665587,   46.33985912,\n",
       "        115.3340367 ,    0.43899341, -112.29570359,  -72.03622302,\n",
       "        130.17951284,  -31.77674244,   -6.08579016,  -45.55518416,\n",
       "         71.07455612,   57.96959941,  -83.82048716,    6.0687337 ,\n",
       "        -33.51143945, -103.03040059,  -27.92544388,   19.07455612,\n",
       "        107.91420984,  -28.4618723 ,    9.74804113,   11.32821427,\n",
       "        -12.77092002,  -72.56100659,  137.12412327,   27.54395013,\n",
       "        -78.24031402,  -38.87587673,  -45.67178573,  -38.4006603 ,\n",
       "        -72.9312663 ,  -38.03040059,    5.90838741,  -74.82048716,\n",
       "        -11.24031402, -102.61639616,   19.02498898,   70.43899341,\n",
       "         91.18533527,  -43.72135287,   43.3340367 ,   47.12412327,\n",
       "         -6.50561702,  -86.71553045,   36.12412327, -110.28988116,\n",
       "        -99.55518416, -103.6659633 ,  -96.50561702,  102.5993397 ,\n",
       "         92.01916655,  121.23490241,   74.59351727,   59.95795456,\n",
       "        -81.29570359,  -45.30152602,  107.0687337 ,   28.2728247 ,\n",
       "        -66.82630959,   46.49438298,  -43.62221859,  -64.55518416,\n",
       "         23.90838741,  -90.82630959,   79.48856055,   -0.87587673,\n",
       "        103.01916655,  -82.55518416,   80.07455612,  -48.55518416,\n",
       "        -93.4006603 ,  -97.24031402,   94.38942627,  102.70429641,\n",
       "        107.96959941,   15.49438298,  -49.62221859, -110.08579016,\n",
       "         53.11830084,  -18.82630959,  -86.82048716,  -76.25195887,\n",
       "        118.59351727,   66.75386355,  130.44481584,  106.90838741,\n",
       "        -62.77092002,  -26.97501102,  148.49438298,    0.3340367 ,\n",
       "        208.8034307 ,  -80.82630959,  -86.87005431, -105.98083345,\n",
       "       -125.82048716,  -64.03040059,  160.85882027,  -13.4618723 ,\n",
       "        -17.61057373,  -67.61639616,  -91.09161259,  -55.34527073,\n",
       "         92.54977255,  -67.87587673,   48.22907998,  -36.71553045,\n",
       "         26.01916655,   66.23490241,  -91.08579016,  -56.45604987,\n",
       "        127.01916655,  -77.61639616,  -70.55518416,   36.28446955,\n",
       "        110.12412327,  -29.93708873,   56.33985912,   33.85882027,\n",
       "         -8.82048716,   77.01916655,  -80.51143945,   53.07455612,\n",
       "        -93.66014088,  -61.4618723 ,  161.65472927,   73.23490241,\n",
       "        -70.87587673,   69.43317098, -104.29570359,  -51.09161259,\n",
       "        -83.55518416, -121.6659633 ,  -30.29570359,  -80.71553045,\n",
       "        117.91420984,  -86.56100659,   42.01916655,   61.23490241,\n",
       "         88.17951284,  -25.35109316, -110.87587673,   -0.55518416,\n",
       "        -38.6659633 ,   -7.35109316,  -41.45604987,   -1.39483788,\n",
       "         14.5381277 ,   -7.34527073,    2.0687337 ,  -57.87587673,\n",
       "         62.91420984,   31.80925312,  -70.18492445,   32.80925312,\n",
       "        -22.9312663 ,   48.60516212,   82.70429641,   74.33985912,\n",
       "         87.49438298,   40.43899341,  -34.92544388,   62.23490241,\n",
       "        -62.51143945,  -13.24613645,   89.12412327,   22.02498898,\n",
       "        108.49438298,    3.5993397 ,  -61.88169916,  -57.77092002,\n",
       "        159.96377698,  -67.19074688,   81.22325756,  -65.4006603 ,\n",
       "         68.85882027,  101.49438298,    8.75968598,  -33.03622302,\n",
       "         80.48273813,  -37.97501102,  -14.77092002,  -75.71553045,\n",
       "        -13.50561702,  -64.6659633 ,   99.17369041,  -55.14700216,\n",
       "        -78.98083345,  -27.09161259,  127.0687337 ,  -69.4618723 ,\n",
       "        -96.45604987,   87.11830084,  -56.03622302,  147.28446955,\n",
       "        123.91420984,   17.17951284,  162.80925312,  -79.1965693 ,\n",
       "        109.3340367 ,   43.38942627,   94.69847398,   92.64890684,\n",
       "        -24.14117973,   17.64890684,  -95.19074688,   28.8646427 ,\n",
       "        -72.82630959,   38.5381277 ,   20.48273813,   51.07455612,\n",
       "        -30.56100659,   76.80925312,   87.91420984, -111.56100659,\n",
       "       -105.08579016,  -26.56682902,  -35.03040059,  -65.77092002,\n",
       "        -93.61057373,   59.70429641,  -86.19074688,   62.69847398,\n",
       "        -58.1353573 ,  -99.45604987,  122.12412327,  -81.9312663 ,\n",
       "        -21.40648273,  -60.4618723 ,  110.38942627,  124.11830084,\n",
       "        -83.14700216,   29.8646427 ,   86.01916655,   61.65472927,\n",
       "         30.0687337 ,  -64.08579016,  -17.81466473,  128.96377698,\n",
       "        145.85882027,  113.96959941,  -62.98665587,  -20.4006603 ,\n",
       "         17.54977255,   44.90838741,   59.64890684,  -17.77092002,\n",
       "         86.23490241,  -23.09161259,  -45.97501102,   23.54395013,\n",
       "        113.17369041,  -81.09161259,  -70.87587673, -104.03622302,\n",
       "        -13.29570359,   48.28446955,  104.64308441,  -63.87587673,\n",
       "        -41.6659633 ,   23.64308441,  -41.50561702,  -74.61639616,\n",
       "        142.96959941,  -45.40648273,   33.64890684, -107.66014088,\n",
       "         18.12412327,  -71.82630959, -108.08579016,  -84.24613645,\n",
       "        -86.98665587,   13.17951284,  -46.45604987,  -32.82048716,\n",
       "         81.69847398,  -81.30152602])"
      ]
     },
     "execution_count": 14,
     "metadata": {},
     "output_type": "execute_result"
    }
   ],
   "source": [
    "error = diabetes_Y-y_pred\n",
    "error"
   ]
  },
  {
   "cell_type": "code",
   "execution_count": 15,
   "metadata": {},
   "outputs": [
    {
     "data": {
      "text/plain": [
       "2528481.7816048963"
      ]
     },
     "execution_count": 15,
     "metadata": {},
     "output_type": "execute_result"
    }
   ],
   "source": [
    "#squared error\n",
    "se = np.sum(error**2)\n",
    "se"
   ]
  },
  {
   "cell_type": "code",
   "execution_count": 16,
   "metadata": {},
   "outputs": [
    {
     "data": {
      "text/plain": [
       "5720.5470172056475"
      ]
     },
     "execution_count": 16,
     "metadata": {},
     "output_type": "execute_result"
    }
   ],
   "source": [
    "#mean squared error\n",
    "mse = se/n\n",
    "mse"
   ]
  },
  {
   "cell_type": "code",
   "execution_count": 17,
   "metadata": {},
   "outputs": [],
   "source": [
    "#Using Linear regression model"
   ]
  },
  {
   "cell_type": "code",
   "execution_count": 18,
   "metadata": {},
   "outputs": [],
   "source": [
    "reg = LinearRegression()"
   ]
  },
  {
   "cell_type": "code",
   "execution_count": 19,
   "metadata": {},
   "outputs": [],
   "source": [
    "diabetes_X = diabetes_X.reshape(-1,1)"
   ]
  },
  {
   "cell_type": "code",
   "execution_count": 20,
   "metadata": {},
   "outputs": [
    {
     "data": {
      "text/plain": [
       "LinearRegression()"
      ]
     },
     "execution_count": 20,
     "metadata": {},
     "output_type": "execute_result"
    }
   ],
   "source": [
    "reg.fit(diabetes_X,diabetes_Y)"
   ]
  },
  {
   "cell_type": "code",
   "execution_count": 21,
   "metadata": {},
   "outputs": [
    {
     "data": {
      "text/plain": [
       "array([163.71553045, 151.56100659, 178.07996773, 125.04204544,\n",
       "       153.77092002, 123.93708873, 138.30152602, 171.45022745,\n",
       "       164.82048716, 130.56682902, 122.83213202, 160.4006603 ,\n",
       "       157.08579016, 153.77092002, 165.92544388, 136.09161259,\n",
       "       150.45604987, 173.66014088, 140.51143945, 143.82630959,\n",
       "       137.1965693 , 126.14700216, 126.14700216, 165.92544388,\n",
       "       132.77674244, 131.67178573, 119.51726187, 144.9312663 ,\n",
       "       168.1353573 , 172.55518416, 133.88169916, 144.9312663 ,\n",
       "       162.61057373, 161.50561702, 157.08579016, 167.03040059,\n",
       "       155.98083345, 149.35109316, 151.56100659, 151.56100659,\n",
       "       153.77092002, 121.7271753 , 133.88169916, 158.19074688,\n",
       "       165.92544388, 160.4006603 , 134.98665587, 128.35691559,\n",
       "       172.55518416, 139.40648273, 162.61057373, 170.34527073,\n",
       "       136.09161259, 149.35109316, 137.1965693 , 139.40648273,\n",
       "       139.40648273, 143.82630959, 164.82048716, 171.45022745,\n",
       "       130.56682902, 139.40648273, 143.82630959, 141.61639616,\n",
       "       172.55518416, 138.30152602, 149.35109316, 164.82048716,\n",
       "       163.71553045, 157.08579016, 151.56100659, 151.56100659,\n",
       "       171.45022745, 155.98083345, 155.98083345, 149.35109316,\n",
       "       142.72135287, 122.83213202, 153.77092002, 120.62221859,\n",
       "       173.66014088, 155.98083345, 147.14117973, 140.51143945,\n",
       "       152.6659633 , 165.92544388, 130.56682902, 165.92544388,\n",
       "       136.09161259, 138.30152602, 155.98083345, 165.92544388,\n",
       "       146.03622302, 137.1965693 , 128.35691559, 130.56682902,\n",
       "       169.24031402, 143.82630959, 152.6659633 , 151.56100659,\n",
       "       157.08579016, 157.08579016, 123.93708873, 170.34527073,\n",
       "       143.82630959, 159.29570359, 122.83213202, 160.4006603 ,\n",
       "       158.19074688, 163.71553045, 164.82048716, 158.19074688,\n",
       "       126.14700216, 158.19074688, 159.29570359, 142.72135287,\n",
       "       167.03040059, 170.34527073, 134.98665587, 157.08579016,\n",
       "       137.1965693 , 171.45022745, 167.03040059, 153.77092002,\n",
       "       150.45604987, 150.45604987, 125.04204544, 162.61057373,\n",
       "       136.09161259, 154.87587673, 132.77674244, 122.83213202,\n",
       "       157.08579016, 139.40648273, 129.4618723 , 150.45604987,\n",
       "       123.93708873, 153.77092002, 162.61057373, 159.29570359,\n",
       "       164.82048716, 143.82630959, 164.82048716, 142.72135287,\n",
       "       161.50561702, 139.40648273, 142.72135287, 134.98665587,\n",
       "       133.88169916, 137.1965693 , 159.29570359, 152.6659633 ,\n",
       "       141.61639616, 164.82048716, 172.55518416, 143.82630959,\n",
       "       147.14117973, 151.56100659, 148.24613645, 150.45604987,\n",
       "       149.35109316, 138.30152602, 136.09161259, 157.08579016,\n",
       "       165.92544388, 139.40648273, 134.98665587, 173.66014088,\n",
       "       152.6659633 , 151.56100659, 159.29570359, 146.03622302,\n",
       "       164.82048716, 132.77674244, 157.08579016, 172.55518416,\n",
       "       165.92544388, 167.03040059, 164.82048716, 144.9312663 ,\n",
       "       140.51143945, 167.03040059, 165.92544388, 165.92544388,\n",
       "       157.08579016, 129.4618723 , 127.25195887, 131.67178573,\n",
       "       153.77092002, 151.56100659, 154.87587673, 150.45604987,\n",
       "       169.24031402, 154.87587673, 131.67178573, 160.4006603 ,\n",
       "       144.9312663 , 167.03040059, 136.09161259, 164.82048716,\n",
       "       169.24031402, 141.61639616, 176.97501102, 151.56100659,\n",
       "       185.81466473, 142.72135287, 152.6659633 , 154.87587673,\n",
       "       161.50561702, 163.71553045, 154.87587673, 180.28988116,\n",
       "       172.55518416, 152.6659633 , 161.50561702, 160.4006603 ,\n",
       "       155.98083345, 174.76509759, 139.40648273, 125.04204544,\n",
       "       159.29570359, 138.30152602, 144.9312663 , 121.7271753 ,\n",
       "       143.82630959, 161.50561702, 120.62221859, 172.55518416,\n",
       "       136.09161259, 143.82630959, 140.51143945, 154.87587673,\n",
       "       155.98083345, 172.55518416, 165.92544388, 172.55518416,\n",
       "       160.4006603 , 169.24031402, 162.61057373, 159.29570359,\n",
       "       167.03040059, 161.50561702, 120.62221859, 157.08579016,\n",
       "       133.88169916, 143.82630959, 164.82048716, 127.25195887,\n",
       "       139.40648273, 148.24613645, 172.55518416, 136.09161259,\n",
       "       153.77092002, 176.97501102, 161.50561702, 152.6659633 ,\n",
       "       137.1965693 , 143.82630959, 175.87005431, 155.98083345,\n",
       "       164.82048716, 167.03040059, 147.14117973, 129.4618723 ,\n",
       "       162.61057373, 141.61639616, 136.09161259, 170.34527073,\n",
       "       171.45022745, 154.87587673, 153.77092002, 163.71553045,\n",
       "       155.98083345, 174.76509759, 157.08579016, 150.45604987,\n",
       "       155.98083345, 141.61639616, 172.55518416, 163.71553045,\n",
       "       154.87587673, 123.93708873, 173.66014088, 147.14117973,\n",
       "       164.82048716, 155.98083345, 140.51143945, 165.92544388,\n",
       "       173.66014088, 129.4618723 , 170.34527073, 174.76509759,\n",
       "       154.87587673, 130.56682902, 159.29570359, 136.09161259,\n",
       "       172.55518416, 152.6659633 , 159.29570359, 163.71553045,\n",
       "       157.08579016, 151.56100659, 155.98083345, 174.76509759,\n",
       "       164.82048716, 149.35109316, 154.87587673, 172.55518416,\n",
       "       152.6659633 , 149.35109316, 150.45604987, 181.39483788,\n",
       "       129.4618723 , 170.34527073, 144.9312663 , 154.87587673,\n",
       "       157.08579016, 158.19074688, 179.18492445, 158.19074688,\n",
       "       144.9312663 , 181.39483788, 159.29570359, 173.66014088,\n",
       "       161.50561702, 151.56100659, 165.92544388, 174.76509759,\n",
       "       140.51143945, 148.24613645, 154.87587673, 176.97501102,\n",
       "       161.50561702, 160.4006603 , 133.88169916, 153.77092002,\n",
       "       146.03622302, 158.19074688, 132.77674244, 160.4006603 ,\n",
       "       147.14117973, 161.50561702, 169.24031402, 146.03622302,\n",
       "       119.51726187, 176.97501102, 153.77092002, 163.71553045,\n",
       "       161.50561702, 152.6659633 , 143.82630959, 126.14700216,\n",
       "       155.98083345, 136.09161259, 144.9312663 , 129.4618723 ,\n",
       "       150.45604987, 133.88169916, 146.03622302, 163.71553045,\n",
       "       157.08579016, 164.82048716, 158.19074688, 137.1965693 ,\n",
       "       152.6659633 , 162.61057373, 138.30152602, 149.35109316,\n",
       "       147.14117973, 149.35109316, 158.19074688, 168.1353573 ,\n",
       "       143.82630959, 129.4618723 , 119.51726187, 165.92544388,\n",
       "       151.56100659, 158.19074688, 157.08579016, 151.56100659,\n",
       "       157.08579016, 130.56682902, 167.03040059, 153.77092002,\n",
       "       162.61057373, 159.29570359, 158.19074688, 138.30152602,\n",
       "       168.1353573 , 150.45604987, 154.87587673, 144.9312663 ,\n",
       "       139.40648273, 129.4618723 , 162.61057373, 133.88169916,\n",
       "       126.14700216, 168.1353573 , 155.98083345, 170.34527073,\n",
       "       144.9312663 , 157.08579016, 185.81466473, 146.03622302,\n",
       "       147.14117973, 167.03040059, 134.98665587, 160.4006603 ,\n",
       "       171.45022745, 136.09161259, 149.35109316, 153.77092002,\n",
       "       174.76509759, 136.09161259, 176.97501102, 150.45604987,\n",
       "       143.82630959, 136.09161259, 154.87587673, 146.03622302,\n",
       "       159.29570359, 163.71553045, 128.35691559, 154.87587673,\n",
       "       152.6659633 , 128.35691559, 161.50561702, 141.61639616,\n",
       "       167.03040059, 139.40648273, 149.35109316, 173.66014088,\n",
       "       154.87587673, 143.82630959, 157.08579016, 148.24613645,\n",
       "       134.98665587, 164.82048716, 150.45604987, 164.82048716,\n",
       "       138.30152602, 138.30152602])"
      ]
     },
     "execution_count": 21,
     "metadata": {},
     "output_type": "execute_result"
    }
   ],
   "source": [
    "y_pred = reg.predict(diabetes_X)\n",
    "y_pred"
   ]
  },
  {
   "cell_type": "code",
   "execution_count": 22,
   "metadata": {},
   "outputs": [],
   "source": [
    "mse = mean_squared_error(diabetes_Y,y_pred)"
   ]
  },
  {
   "cell_type": "code",
   "execution_count": 23,
   "metadata": {},
   "outputs": [
    {
     "data": {
      "text/plain": [
       "5720.5470172056475"
      ]
     },
     "execution_count": 23,
     "metadata": {},
     "output_type": "execute_result"
    }
   ],
   "source": [
    "mse"
   ]
  },
  {
   "cell_type": "code",
   "execution_count": null,
   "metadata": {},
   "outputs": [],
   "source": []
  }
 ],
 "metadata": {
  "kernelspec": {
   "display_name": "Python 3",
   "language": "python",
   "name": "python3"
  },
  "language_info": {
   "codemirror_mode": {
    "name": "ipython",
    "version": 3
   },
   "file_extension": ".py",
   "mimetype": "text/x-python",
   "name": "python",
   "nbconvert_exporter": "python",
   "pygments_lexer": "ipython3",
   "version": "3.7.4"
  }
 },
 "nbformat": 4,
 "nbformat_minor": 5
}
