{
 "cells": [
  {
   "cell_type": "code",
   "execution_count": 1,
   "metadata": {},
   "outputs": [],
   "source": [
    "import pandas as pd\n",
    "import numpy as np"
   ]
  },
  {
   "cell_type": "code",
   "execution_count": 13,
   "metadata": {},
   "outputs": [
    {
     "name": "stdout",
     "output_type": "stream",
     "text": [
      "f is  [ 2.  4.  6.  8. 10. 12. 14. 16. 18. 20.] \n",
      "y is  [ 2  4  6  8 10 12 14 16 18 20]\n"
     ]
    }
   ],
   "source": [
    "X = np.array([0, 1, 2, 3, 4, 5, 6, 7, 8, 9])\n",
    "Y = np.array([2,4,6,8,10,12,14,16,18,20])\n",
    "m = 0\n",
    "c = 0\n",
    "alpha = 0.01\n",
    "n = len(Y)\n",
    "while 1:\n",
    "    f = m * X + c\n",
    "    #print(\"the m is \", m)\n",
    "    #print(\"the c is \", c)\n",
    "    m = m - ((1 / n) * alpha * np.sum((f - Y) * X))\n",
    "    c = c - ((1 / n) * alpha * np.sum((f - Y)))\n",
    "    if (f - Y).all() < 0.001:\n",
    "        print(\"f is \", f, \"\\ny is \", Y)\n",
    "        break"
   ]
  },
  {
   "cell_type": "code",
   "execution_count": null,
   "metadata": {},
   "outputs": [],
   "source": []
  }
 ],
 "metadata": {
  "kernelspec": {
   "display_name": "Python 3",
   "language": "python",
   "name": "python3"
  },
  "language_info": {
   "codemirror_mode": {
    "name": "ipython",
    "version": 3
   },
   "file_extension": ".py",
   "mimetype": "text/x-python",
   "name": "python",
   "nbconvert_exporter": "python",
   "pygments_lexer": "ipython3",
   "version": "3.7.4"
  }
 },
 "nbformat": 4,
 "nbformat_minor": 5
}
