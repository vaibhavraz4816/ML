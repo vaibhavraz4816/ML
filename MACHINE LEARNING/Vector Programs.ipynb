{
 "cells": [
  {
   "cell_type": "markdown",
   "id": "6a0c2cb4",
   "metadata": {},
   "source": [
    "#### Write a function that returns the largest element in a vector of numbers."
   ]
  },
  {
   "cell_type": "code",
   "execution_count": 7,
   "id": "be6c9112",
   "metadata": {},
   "outputs": [
    {
     "name": "stdout",
     "output_type": "stream",
     "text": [
      "Maximum element is:  9\n"
     ]
    }
   ],
   "source": [
    "import numpy as np\n",
    "\n",
    "def maxm(vector):\n",
    "    m = vector[0]\n",
    "    for i in vector:\n",
    "        if i>m:\n",
    "            m = i\n",
    "    return m\n",
    "\n",
    "\n",
    "arr = [3,6,1,9,7]\n",
    "vect = np.array(arr)\n",
    "m = maxm(vect)\n",
    "print(\"Maximum element is: \",m)"
   ]
  },
  {
   "cell_type": "markdown",
   "id": "5fd0dcde",
   "metadata": {},
   "source": [
    "#### Write a function that returns the sum of the even numbers from a vector of numbers"
   ]
  },
  {
   "cell_type": "code",
   "execution_count": 10,
   "id": "b5fc5470",
   "metadata": {},
   "outputs": [
    {
     "name": "stdout",
     "output_type": "stream",
     "text": [
      "Sum is:  78\n"
     ]
    }
   ],
   "source": [
    "def Even_Sum(vector):\n",
    "    s = 0\n",
    "    for i in vector:\n",
    "        if i%2==0:\n",
    "            s+=i\n",
    "    return s\n",
    "\n",
    "\n",
    "arr = [5,10,50,3,6,12,7,37]\n",
    "vect = np.array(arr)\n",
    "s = Even_Sum(vect)\n",
    "print(\"Sum is: \",s)"
   ]
  },
  {
   "cell_type": "markdown",
   "id": "0a8012bb",
   "metadata": {},
   "source": [
    "#### Write a function that searches a number from a vector of numbers"
   ]
  },
  {
   "cell_type": "code",
   "execution_count": 16,
   "id": "a9ba91fa",
   "metadata": {},
   "outputs": [
    {
     "name": "stdout",
     "output_type": "stream",
     "text": [
      "Enter the number to be searched: 6\n",
      "Element not found\n"
     ]
    }
   ],
   "source": [
    "def Search(vector,num):\n",
    "    for i in range(len(vector)-1):\n",
    "        if vector[i]==num:\n",
    "            flag = i\n",
    "            break\n",
    "        else: \n",
    "            flag = -1\n",
    "    return flag\n",
    "\n",
    "arr = [4,8,12,3,7,8]\n",
    "vect = np.array(arr)\n",
    "num = int(input(\"Enter the number to be searched: \"))\n",
    "x = Search(vect,num)\n",
    "if(x==-1):\n",
    "    print(\"Element not found\")\n",
    "else:\n",
    "    print(\"Element found at: \",x)"
   ]
  },
  {
   "cell_type": "markdown",
   "id": "16d7bd60",
   "metadata": {},
   "source": [
    "#### Write a function that finds the factorial of a number"
   ]
  },
  {
   "cell_type": "code",
   "execution_count": 17,
   "id": "4c791dca",
   "metadata": {},
   "outputs": [
    {
     "name": "stdout",
     "output_type": "stream",
     "text": [
      "Enter the number for it's factorial: 7\n",
      "The factorial of  7  is:  5040\n"
     ]
    }
   ],
   "source": [
    "def factorial(n):\n",
    "    p = 1\n",
    "    for i in range(1,n+1):\n",
    "        p*=i\n",
    "    return p\n",
    "\n",
    "x = int(input(\"Enter the number for it's factorial: \"))\n",
    "num = factorial(x)\n",
    "print(\"The factorial of \",x,\" is: \",num)"
   ]
  },
  {
   "cell_type": "code",
   "execution_count": null,
   "id": "f0cf640b",
   "metadata": {},
   "outputs": [],
   "source": []
  }
 ],
 "metadata": {
  "kernelspec": {
   "display_name": "Python 3",
   "language": "python",
   "name": "python3"
  },
  "language_info": {
   "codemirror_mode": {
    "name": "ipython",
    "version": 3
   },
   "file_extension": ".py",
   "mimetype": "text/x-python",
   "name": "python",
   "nbconvert_exporter": "python",
   "pygments_lexer": "ipython3",
   "version": "3.8.11"
  }
 },
 "nbformat": 4,
 "nbformat_minor": 5
}
