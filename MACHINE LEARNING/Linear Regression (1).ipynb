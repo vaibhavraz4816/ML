{
 "cells": [
  {
   "cell_type": "code",
   "execution_count": 1,
   "id": "953f4757",
   "metadata": {},
   "outputs": [
    {
     "data": {
      "text/plain": [
       "((442, 10), (442,))"
      ]
     },
     "execution_count": 1,
     "metadata": {},
     "output_type": "execute_result"
    }
   ],
   "source": [
    "from sklearn import datasets\n",
    "import matplotlib.pyplot as plt\n",
    "from sklearn.linear_model import LinearRegression\n",
    "from sklearn.metrics import mean_squared_error,confusion_matrix\n",
    "import scipy\n",
    "from sklearn import preprocessing as p\n",
    "\n",
    "\n",
    "\n",
    "x,y=datasets.load_diabetes(return_X_y=True)\n",
    "x.shape,y.shape"
   ]
  },
  {
   "cell_type": "code",
   "execution_count": 2,
   "id": "4d097c60",
   "metadata": {},
   "outputs": [],
   "source": [
    "from sklearn.model_selection import train_test_split\n"
   ]
  },
  {
   "cell_type": "code",
   "execution_count": 3,
   "id": "5c4d1999",
   "metadata": {},
   "outputs": [],
   "source": [
    "x_train,x_test,y_train,y_test=train_test_split(x,y,test_size=0.3,random_state=0)"
   ]
  },
  {
   "cell_type": "code",
   "execution_count": 4,
   "id": "1559af48",
   "metadata": {},
   "outputs": [],
   "source": [
    "x_train=x_train[:,0]\n",
    "x_test=x_test[:,0]\n",
    "x_train.shape\n",
    "x_train,y_train=p.normalize([x_train,y_train])\n",
    "x_test,y_test=p.normalize([x_test,y_test])"
   ]
  },
  {
   "cell_type": "code",
   "execution_count": 5,
   "id": "3cc84813",
   "metadata": {},
   "outputs": [
    {
     "data": {
      "text/plain": [
       "(133,)"
      ]
     },
     "execution_count": 5,
     "metadata": {},
     "output_type": "execute_result"
    }
   ],
   "source": [
    "x_test.shape"
   ]
  },
  {
   "cell_type": "code",
   "execution_count": 6,
   "id": "d80b9fb8",
   "metadata": {},
   "outputs": [
    {
     "data": {
      "text/plain": [
       "((309,), (133,))"
      ]
     },
     "execution_count": 6,
     "metadata": {},
     "output_type": "execute_result"
    }
   ],
   "source": [
    "y_train.shape,y_test.shape"
   ]
  },
  {
   "cell_type": "code",
   "execution_count": 7,
   "id": "99a10eed",
   "metadata": {},
   "outputs": [
    {
     "data": {
      "text/plain": [
       "<matplotlib.collections.PathCollection at 0x206f951a250>"
      ]
     },
     "execution_count": 7,
     "metadata": {},
     "output_type": "execute_result"
    },
    {
     "data": {
      "image/png": "[encoded data removed]",
      "text/plain": [
       "<Figure size 432x288 with 1 Axes>"
      ]
     },
     "metadata": {
      "needs_background": "light"
     },
     "output_type": "display_data"
    }
   ],
   "source": [
    "plt.scatter(x_train,y_train)"
   ]
  },
  {
   "cell_type": "code",
   "execution_count": 8,
   "id": "eb929279",
   "metadata": {},
   "outputs": [],
   "source": [
    "reg = LinearRegression()"
   ]
  },
  {
   "cell_type": "code",
   "execution_count": 9,
   "id": "eb884879",
   "metadata": {},
   "outputs": [],
   "source": [
    "x_train=x_train.reshape(-1,1)\n",
    "x_test=x_test.reshape(-1,1)"
   ]
  },
  {
   "cell_type": "code",
   "execution_count": 10,
   "id": "d53aedd3",
   "metadata": {},
   "outputs": [
    {
     "data": {
      "text/plain": [
       "LinearRegression()"
      ]
     },
     "execution_count": 10,
     "metadata": {},
     "output_type": "execute_result"
    }
   ],
   "source": [
    "reg.fit(x_train,y_train)"
   ]
  },
  {
   "cell_type": "code",
   "execution_count": 11,
   "id": "52e13bcc",
   "metadata": {},
   "outputs": [],
   "source": [
    "y=reg.predict(x_train)"
   ]
  },
  {
   "cell_type": "code",
   "execution_count": 12,
   "id": "25ce2418",
   "metadata": {},
   "outputs": [
    {
     "data": {
      "text/plain": [
       "array([0.05177414, 0.0477959 , 0.05105082, 0.05358243, 0.05141248,\n",
       "       0.04092439, 0.05719902, 0.04707258, 0.04851921, 0.0521358 ,\n",
       "       0.04598761, 0.04960419, 0.04598761, 0.04562595, 0.0477959 ,\n",
       "       0.05177414, 0.05358243, 0.04851921, 0.04671092, 0.04634926,\n",
       "       0.05285912, 0.05285912, 0.04309434, 0.05068917, 0.05141248,\n",
       "       0.04960419, 0.0521358 , 0.05792234, 0.05466741, 0.0521358 ,\n",
       "       0.05864565, 0.04237102, 0.04562595, 0.05756068, 0.04743424,\n",
       "       0.05141248, 0.05285912, 0.04454097, 0.05285912, 0.05719902,\n",
       "       0.0564757 , 0.0416477 , 0.0521358 , 0.05502907, 0.04996585,\n",
       "       0.05539073, 0.05068917, 0.04960419, 0.04562595, 0.04634926,\n",
       "       0.04200936, 0.05792234, 0.04128604, 0.05068917, 0.04598761,\n",
       "       0.0416477 , 0.04815756, 0.05358243, 0.05068917, 0.04634926,\n",
       "       0.05358243, 0.04851921, 0.04526429, 0.0521358 , 0.05502907,\n",
       "       0.0477959 , 0.05502907, 0.04634926, 0.05756068, 0.05466741,\n",
       "       0.04417931, 0.0477959 , 0.05322078, 0.0477959 , 0.05032751,\n",
       "       0.05719902, 0.05249746, 0.05322078, 0.04490263, 0.04454097,\n",
       "       0.0477959 , 0.04309434, 0.05177414, 0.05105082, 0.04273268,\n",
       "       0.05466741, 0.05864565, 0.05719902, 0.05539073, 0.03983941,\n",
       "       0.05032751, 0.0564757 , 0.05394409, 0.04815756, 0.05792234,\n",
       "       0.05141248, 0.04815756, 0.05900731, 0.05177414, 0.04888087,\n",
       "       0.05068917, 0.04526429, 0.05105082, 0.05394409, 0.05719902,\n",
       "       0.0477959 , 0.04996585, 0.05141248, 0.06009229, 0.05322078,\n",
       "       0.05358243, 0.05032751, 0.05358243, 0.05539073, 0.04671092,\n",
       "       0.06153892, 0.05502907, 0.043456  , 0.05285912, 0.05141248,\n",
       "       0.05466741, 0.04417931, 0.04526429, 0.05177414, 0.04056273,\n",
       "       0.05141248, 0.05249746, 0.04490263, 0.05068917, 0.05105082,\n",
       "       0.05249746, 0.04020107, 0.05756068, 0.0477959 , 0.05105082,\n",
       "       0.05068917, 0.04490263, 0.04526429, 0.04598761, 0.04671092,\n",
       "       0.05466741, 0.0477959 , 0.05466741, 0.04562595, 0.04707258,\n",
       "       0.04996585, 0.05430575, 0.05430575, 0.04309434, 0.05285912,\n",
       "       0.05611404, 0.05466741, 0.05936897, 0.04309434, 0.04634926,\n",
       "       0.05611404, 0.0477959 , 0.05141248, 0.04020107, 0.04888087,\n",
       "       0.0416477 , 0.04960419, 0.04996585, 0.05141248, 0.04671092,\n",
       "       0.04092439, 0.0521358 , 0.04815756, 0.05285912, 0.04996585,\n",
       "       0.05285912, 0.05394409, 0.05502907, 0.04454097, 0.05756068,\n",
       "       0.05719902, 0.05828399, 0.05322078, 0.05864565, 0.043456  ,\n",
       "       0.04526429, 0.05177414, 0.05141248, 0.05466741, 0.04056273,\n",
       "       0.05105082, 0.05394409, 0.05430575, 0.05177414, 0.04200936,\n",
       "       0.04888087, 0.05105082, 0.04815756, 0.0477959 , 0.05032751,\n",
       "       0.04417931, 0.04381765, 0.05502907, 0.05249746, 0.05430575,\n",
       "       0.04707258, 0.05249746, 0.05068917, 0.05466741, 0.04634926,\n",
       "       0.05466741, 0.04562595, 0.04273268, 0.04526429, 0.043456  ,\n",
       "       0.05141248, 0.05032751, 0.0521358 , 0.04960419, 0.05719902,\n",
       "       0.05358243, 0.05141248, 0.05430575, 0.05719902, 0.04454097,\n",
       "       0.04743424, 0.04454097, 0.04671092, 0.04996585, 0.04092439,\n",
       "       0.04273268, 0.04598761, 0.04888087, 0.05358243, 0.05032751,\n",
       "       0.05068917, 0.05683736, 0.05105082, 0.04490263, 0.05502907,\n",
       "       0.04888087, 0.0564757 , 0.0521358 , 0.04851921, 0.05792234,\n",
       "       0.0477959 , 0.06009229, 0.0477959 , 0.05394409, 0.04454097,\n",
       "       0.05285912, 0.05683736, 0.05792234, 0.04634926, 0.05032751,\n",
       "       0.04960419, 0.05285912, 0.04526429, 0.0564757 , 0.05575238,\n",
       "       0.05502907, 0.05249746, 0.0521358 , 0.05068917, 0.04454097,\n",
       "       0.05864565, 0.04815756, 0.05394409, 0.05394409, 0.04309434,\n",
       "       0.04526429, 0.05756068, 0.05177414, 0.06153892, 0.04490263,\n",
       "       0.05177414, 0.04960419, 0.05539073, 0.05032751, 0.04417931,\n",
       "       0.05105082, 0.05539073, 0.0521358 , 0.04743424, 0.04888087,\n",
       "       0.04707258, 0.05683736, 0.05322078, 0.04381765, 0.04634926,\n",
       "       0.05249746, 0.05358243, 0.0521358 , 0.05539073, 0.05032751,\n",
       "       0.05141248, 0.04815756, 0.04200936, 0.04526429, 0.05032751,\n",
       "       0.05502907, 0.05141248, 0.04020107, 0.04707258, 0.05973063,\n",
       "       0.043456  , 0.05430575, 0.05322078, 0.04526429, 0.05756068,\n",
       "       0.05611404, 0.0564757 , 0.04273268, 0.05466741])"
      ]
     },
     "execution_count": 12,
     "metadata": {},
     "output_type": "execute_result"
    }
   ],
   "source": [
    "y"
   ]
  },
  {
   "cell_type": "code",
   "execution_count": 13,
   "id": "d2cedc24",
   "metadata": {},
   "outputs": [],
   "source": [
    "ms=mean_squared_error(y_train,y)"
   ]
  },
  {
   "cell_type": "code",
   "execution_count": 14,
   "id": "65efd9a0",
   "metadata": {},
   "outputs": [
    {
     "data": {
      "text/plain": [
       "0.0006682370012689414"
      ]
     },
     "execution_count": 14,
     "metadata": {},
     "output_type": "execute_result"
    }
   ],
   "source": [
    "ms"
   ]
  },
  {
   "cell_type": "code",
   "execution_count": null,
   "id": "c02c2956",
   "metadata": {},
   "outputs": [],
   "source": []
  },
  {
   "cell_type": "code",
   "execution_count": null,
   "id": "6a5de032",
   "metadata": {},
   "outputs": [],
   "source": []
  },
  {
   "cell_type": "code",
   "execution_count": 15,
   "id": "615e4a69",
   "metadata": {},
   "outputs": [],
   "source": [
    "ypred=reg.predict(x_test)"
   ]
  },
  {
   "cell_type": "code",
   "execution_count": 16,
   "id": "b846679e",
   "metadata": {},
   "outputs": [
    {
     "data": {
      "text/plain": [
       "array([0.05370101, 0.04847013, 0.05660706, 0.04847013, 0.04672651,\n",
       "       0.04730771, 0.0531198 , 0.06009431, 0.04207683, 0.04556409,\n",
       "       0.05137618, 0.05544464, 0.05428222, 0.04730771, 0.06067552,\n",
       "       0.03684596, 0.039752  , 0.05021376, 0.03510233, 0.05544464,\n",
       "       0.04556409, 0.04905134, 0.05893189, 0.05137618, 0.03858958,\n",
       "       0.0531198 , 0.05835068, 0.0531198 , 0.05370101, 0.05079497,\n",
       "       0.05776947, 0.04788892, 0.03858958, 0.0333587 , 0.05776947,\n",
       "       0.0531198 , 0.04672651, 0.05602585, 0.0531198 , 0.05253859,\n",
       "       0.04847013, 0.04149563, 0.05486343, 0.05893189, 0.05195738,\n",
       "       0.06125673, 0.05776947, 0.04265804, 0.05021376, 0.05021376,\n",
       "       0.05718826, 0.04323925, 0.04730771, 0.05776947, 0.04963255,\n",
       "       0.04207683, 0.04672651, 0.03917079, 0.06183793, 0.05718826,\n",
       "       0.04382046, 0.04963255, 0.05486343, 0.0531198 , 0.05835068,\n",
       "       0.03568354, 0.04905134, 0.0461453 , 0.03742716, 0.04323925,\n",
       "       0.05253859, 0.06067552, 0.05660706, 0.06125673, 0.04498288,\n",
       "       0.04323925, 0.04963255, 0.0461453 , 0.05835068, 0.05253859,\n",
       "       0.05137618, 0.0595131 , 0.05428222, 0.05370101, 0.03917079,\n",
       "       0.05079497, 0.03858958, 0.04382046, 0.04207683, 0.05253859,\n",
       "       0.0333587 , 0.05486343, 0.04963255, 0.06125673, 0.05137618,\n",
       "       0.05370101, 0.05544464, 0.06241914, 0.05602585, 0.05718826,\n",
       "       0.05195738, 0.03568354, 0.05893189, 0.0595131 , 0.06009431,\n",
       "       0.06067552, 0.05021376, 0.04323925, 0.03684596, 0.05660706,\n",
       "       0.05718826, 0.04265804, 0.04207683, 0.03568354, 0.05776947,\n",
       "       0.0531198 , 0.05835068, 0.06125673, 0.05835068, 0.05718826,\n",
       "       0.04905134, 0.06125673, 0.04382046, 0.04963255, 0.04847013,\n",
       "       0.05253859, 0.0531198 , 0.04905134, 0.04440167, 0.06358156,\n",
       "       0.05660706, 0.05718826, 0.04963255])"
      ]
     },
     "execution_count": 16,
     "metadata": {},
     "output_type": "execute_result"
    }
   ],
   "source": [
    "ypred"
   ]
  },
  {
   "cell_type": "code",
   "execution_count": 17,
   "id": "c55e050c",
   "metadata": {},
   "outputs": [
    {
     "data": {
      "text/plain": [
       "array([0.16558667, 0.11090696, 0.06551248, 0.03301416, 0.09027311,\n",
       "       0.14185774, 0.09233649, 0.11967635, 0.07325018, 0.05106879,\n",
       "       0.12999327, 0.08975726, 0.06654418, 0.03817263, 0.13618343,\n",
       "       0.02527647, 0.04436278, 0.03868847, 0.05210048, 0.07995618,\n",
       "       0.08769388, 0.14237359, 0.0567431 , 0.0701551 , 0.03507755,\n",
       "       0.06602833, 0.05313217, 0.04797371, 0.09852665, 0.10110588,\n",
       "       0.11193865, 0.09336818, 0.08666218, 0.10316927, 0.11297035,\n",
       "       0.14495282, 0.0778928 , 0.13257251, 0.02527647, 0.10213757,\n",
       "       0.04952125, 0.09233649, 0.0490054 , 0.10213757, 0.1258665 ,\n",
       "       0.04591032, 0.11039111, 0.09388403, 0.04333109, 0.13927851,\n",
       "       0.08047203, 0.07118679, 0.05829063, 0.06757587, 0.10059003,\n",
       "       0.08820972, 0.06293325, 0.03146663, 0.11864465, 0.12122389,\n",
       "       0.02682401, 0.06241741, 0.07428187, 0.05519556, 0.06809171,\n",
       "       0.15578559, 0.02733986, 0.16352329, 0.07067095, 0.02940324,\n",
       "       0.05055294, 0.08769388, 0.04539448, 0.04642617, 0.0345617 ,\n",
       "       0.08408295, 0.05364802, 0.09594742, 0.09285234, 0.14598451,\n",
       "       0.07273433, 0.07737695, 0.02424478, 0.15320636, 0.05364802,\n",
       "       0.02527647, 0.05313217, 0.07325018, 0.03043493, 0.04384694,\n",
       "       0.07067095, 0.02733986, 0.02630816, 0.10162173, 0.06963925,\n",
       "       0.03714094, 0.10729604, 0.12225558, 0.07479772, 0.0567431 ,\n",
       "       0.15062713, 0.05003709, 0.10162173, 0.08150372, 0.08408295,\n",
       "       0.03249832, 0.09904249, 0.12019219, 0.03507755, 0.08253541,\n",
       "       0.09182065, 0.03507755, 0.05622725, 0.04848955, 0.06086987,\n",
       "       0.14185774, 0.14185774, 0.06551248, 0.14495282, 0.03662509,\n",
       "       0.02166555, 0.03662509, 0.06602833, 0.1403102 , 0.06963925,\n",
       "       0.02630816, 0.11348619, 0.08614634, 0.04023601, 0.06757587,\n",
       "       0.10935942, 0.09388403, 0.08975726])"
      ]
     },
     "execution_count": 17,
     "metadata": {},
     "output_type": "execute_result"
    }
   ],
   "source": [
    "y_test"
   ]
  },
  {
   "cell_type": "code",
   "execution_count": 18,
   "id": "12d7d076",
   "metadata": {},
   "outputs": [],
   "source": [
    "mse=mean_squared_error(y_test,ypred)"
   ]
  },
  {
   "cell_type": "code",
   "execution_count": 19,
   "id": "90c4ccd3",
   "metadata": {},
   "outputs": [
    {
     "data": {
      "text/plain": [
       "0.0020708779501870385"
      ]
     },
     "execution_count": 19,
     "metadata": {},
     "output_type": "execute_result"
    }
   ],
   "source": [
    "mse"
   ]
  },
  {
   "cell_type": "code",
   "execution_count": null,
   "id": "37732b20",
   "metadata": {},
   "outputs": [],
   "source": []
  },
  {
   "cell_type": "code",
   "execution_count": 20,
   "id": "8fb1a896",
   "metadata": {},
   "outputs": [
    {
     "data": {
      "text/plain": [
       "array([0.16558667, 0.11090696, 0.06551248, 0.03301416, 0.09027311,\n",
       "       0.14185774, 0.09233649, 0.11967635, 0.07325018, 0.05106879,\n",
       "       0.12999327, 0.08975726, 0.06654418, 0.03817263, 0.13618343,\n",
       "       0.02527647, 0.04436278, 0.03868847, 0.05210048, 0.07995618,\n",
       "       0.08769388, 0.14237359, 0.0567431 , 0.0701551 , 0.03507755,\n",
       "       0.06602833, 0.05313217, 0.04797371, 0.09852665, 0.10110588,\n",
       "       0.11193865, 0.09336818, 0.08666218, 0.10316927, 0.11297035,\n",
       "       0.14495282, 0.0778928 , 0.13257251, 0.02527647, 0.10213757,\n",
       "       0.04952125, 0.09233649, 0.0490054 , 0.10213757, 0.1258665 ,\n",
       "       0.04591032, 0.11039111, 0.09388403, 0.04333109, 0.13927851,\n",
       "       0.08047203, 0.07118679, 0.05829063, 0.06757587, 0.10059003,\n",
       "       0.08820972, 0.06293325, 0.03146663, 0.11864465, 0.12122389,\n",
       "       0.02682401, 0.06241741, 0.07428187, 0.05519556, 0.06809171,\n",
       "       0.15578559, 0.02733986, 0.16352329, 0.07067095, 0.02940324,\n",
       "       0.05055294, 0.08769388, 0.04539448, 0.04642617, 0.0345617 ,\n",
       "       0.08408295, 0.05364802, 0.09594742, 0.09285234, 0.14598451,\n",
       "       0.07273433, 0.07737695, 0.02424478, 0.15320636, 0.05364802,\n",
       "       0.02527647, 0.05313217, 0.07325018, 0.03043493, 0.04384694,\n",
       "       0.07067095, 0.02733986, 0.02630816, 0.10162173, 0.06963925,\n",
       "       0.03714094, 0.10729604, 0.12225558, 0.07479772, 0.0567431 ,\n",
       "       0.15062713, 0.05003709, 0.10162173, 0.08150372, 0.08408295,\n",
       "       0.03249832, 0.09904249, 0.12019219, 0.03507755, 0.08253541,\n",
       "       0.09182065, 0.03507755, 0.05622725, 0.04848955, 0.06086987,\n",
       "       0.14185774, 0.14185774, 0.06551248, 0.14495282, 0.03662509,\n",
       "       0.02166555, 0.03662509, 0.06602833, 0.1403102 , 0.06963925,\n",
       "       0.02630816, 0.11348619, 0.08614634, 0.04023601, 0.06757587,\n",
       "       0.10935942, 0.09388403, 0.08975726])"
      ]
     },
     "execution_count": 20,
     "metadata": {},
     "output_type": "execute_result"
    }
   ],
   "source": [
    "y_test"
   ]
  },
  {
   "cell_type": "code",
   "execution_count": null,
   "id": "61653c91",
   "metadata": {},
   "outputs": [],
   "source": []
  }
 ],
 "metadata": {
  "kernelspec": {
   "display_name": "Python 3 (ipykernel)",
   "language": "python",
   "name": "python3"
  },
  "language_info": {
   "codemirror_mode": {
    "name": "ipython",
    "version": 3
   },
   "file_extension": ".py",
   "mimetype": "text/x-python",
   "name": "python",
   "nbconvert_exporter": "python",
   "pygments_lexer": "ipython3",
   "version": "3.9.7"
  }
 },
 "nbformat": 4,
 "nbformat_minor": 5
}
